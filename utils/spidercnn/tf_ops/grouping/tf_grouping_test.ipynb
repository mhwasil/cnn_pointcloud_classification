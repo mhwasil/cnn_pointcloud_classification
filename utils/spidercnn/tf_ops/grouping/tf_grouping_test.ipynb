{
 "cells": [
  {
   "cell_type": "code",
   "execution_count": 1,
   "metadata": {},
   "outputs": [
    {
     "ename": "NotFoundError",
     "evalue": "/home/mwasil2s/deeplearning_walkthrough/classification/pointcloud_classification/utils/SpiderCNN/tf_ops/grouping/tf_grouping_so_hk.so: undefined symbol: _ZN10tensorflow8internal21CheckOpMessageBuilder9NewStringEv",
     "output_type": "error",
     "traceback": [
      "\u001b[0;31m---------------------------------------------------------------------------\u001b[0m",
      "\u001b[0;31mNotFoundError\u001b[0m                             Traceback (most recent call last)",
      "\u001b[0;32m<ipython-input-1-19dae710a583>\u001b[0m in \u001b[0;36m<module>\u001b[0;34m\u001b[0m\n\u001b[1;32m      6\u001b[0m \u001b[0msys\u001b[0m\u001b[0;34m.\u001b[0m\u001b[0mpath\u001b[0m\u001b[0;34m.\u001b[0m\u001b[0mappend\u001b[0m\u001b[0;34m(\u001b[0m\u001b[0mBASE_DIR\u001b[0m\u001b[0;34m)\u001b[0m\u001b[0;34m\u001b[0m\u001b[0;34m\u001b[0m\u001b[0m\n\u001b[1;32m      7\u001b[0m \u001b[0;31m# grouping_module=tf.load_op_library(os.path.join(BASE_DIR, 'tf_grouping_so.so'))\u001b[0m\u001b[0;34m\u001b[0m\u001b[0;34m\u001b[0m\u001b[0;34m\u001b[0m\u001b[0m\n\u001b[0;32m----> 8\u001b[0;31m \u001b[0mgrouping_module\u001b[0m\u001b[0;34m=\u001b[0m\u001b[0mtf\u001b[0m\u001b[0;34m.\u001b[0m\u001b[0mload_op_library\u001b[0m\u001b[0;34m(\u001b[0m\u001b[0mos\u001b[0m\u001b[0;34m.\u001b[0m\u001b[0mpath\u001b[0m\u001b[0;34m.\u001b[0m\u001b[0mjoin\u001b[0m\u001b[0;34m(\u001b[0m\u001b[0mBASE_DIR\u001b[0m\u001b[0;34m,\u001b[0m \u001b[0;34m'tf_grouping_so_hk.so'\u001b[0m\u001b[0;34m)\u001b[0m\u001b[0;34m)\u001b[0m\u001b[0;34m\u001b[0m\u001b[0;34m\u001b[0m\u001b[0m\n\u001b[0m",
      "\u001b[0;32m~/anaconda3/envs/deeplearning/lib/python3.6/site-packages/tensorflow/python/framework/load_library.py\u001b[0m in \u001b[0;36mload_op_library\u001b[0;34m(library_filename)\u001b[0m\n\u001b[1;32m     58\u001b[0m     \u001b[0mRuntimeError\u001b[0m\u001b[0;34m:\u001b[0m \u001b[0mwhen\u001b[0m \u001b[0munable\u001b[0m \u001b[0mto\u001b[0m \u001b[0mload\u001b[0m \u001b[0mthe\u001b[0m \u001b[0mlibrary\u001b[0m \u001b[0;32mor\u001b[0m \u001b[0mget\u001b[0m \u001b[0mthe\u001b[0m \u001b[0mpython\u001b[0m \u001b[0mwrappers\u001b[0m\u001b[0;34m.\u001b[0m\u001b[0;34m\u001b[0m\u001b[0;34m\u001b[0m\u001b[0m\n\u001b[1;32m     59\u001b[0m   \"\"\"\n\u001b[0;32m---> 60\u001b[0;31m   \u001b[0mlib_handle\u001b[0m \u001b[0;34m=\u001b[0m \u001b[0mpy_tf\u001b[0m\u001b[0;34m.\u001b[0m\u001b[0mTF_LoadLibrary\u001b[0m\u001b[0;34m(\u001b[0m\u001b[0mlibrary_filename\u001b[0m\u001b[0;34m)\u001b[0m\u001b[0;34m\u001b[0m\u001b[0;34m\u001b[0m\u001b[0m\n\u001b[0m\u001b[1;32m     61\u001b[0m \u001b[0;34m\u001b[0m\u001b[0m\n\u001b[1;32m     62\u001b[0m   \u001b[0mop_list_str\u001b[0m \u001b[0;34m=\u001b[0m \u001b[0mpy_tf\u001b[0m\u001b[0;34m.\u001b[0m\u001b[0mTF_GetOpList\u001b[0m\u001b[0;34m(\u001b[0m\u001b[0mlib_handle\u001b[0m\u001b[0;34m)\u001b[0m\u001b[0;34m\u001b[0m\u001b[0;34m\u001b[0m\u001b[0m\n",
      "\u001b[0;31mNotFoundError\u001b[0m: /home/mwasil2s/deeplearning_walkthrough/classification/pointcloud_classification/utils/SpiderCNN/tf_ops/grouping/tf_grouping_so_hk.so: undefined symbol: _ZN10tensorflow8internal21CheckOpMessageBuilder9NewStringEv"
     ]
    }
   ],
   "source": [
    "import tensorflow as tf\n",
    "from tensorflow.python.framework import ops\n",
    "import sys\n",
    "import os\n",
    "BASE_DIR = os.path.dirname(os.path.abspath('__file__'))\n",
    "sys.path.append(BASE_DIR)\n",
    "# grouping_module=tf.load_op_library(os.path.join(BASE_DIR, 'tf_grouping_so.so'))\n",
    "grouping_module=tf.load_op_library(os.path.join(BASE_DIR, 'tf_grouping_so_hk.so'))"
   ]
  },
  {
   "cell_type": "code",
   "execution_count": 2,
   "metadata": {},
   "outputs": [
    {
     "name": "stdout",
     "output_type": "stream",
     "text": [
      "/home/mwasil2s/anaconda3/envs/deeplearning/lib/python3.6/site-packages/tensorflow/include\n"
     ]
    }
   ],
   "source": [
    "!python -c 'import tensorflow as tf; print(tf.sysconfig.get_include())'"
   ]
  },
  {
   "cell_type": "code",
   "execution_count": 1,
   "metadata": {},
   "outputs": [
    {
     "name": "stdout",
     "output_type": "stream",
     "text": [
      "NAME=\"Scientific Linux\"\n",
      "VERSION=\"7.7 (Nitrogen)\"\n",
      "ID=\"scientific\"\n",
      "ID_LIKE=\"rhel centos fedora\"\n",
      "VERSION_ID=\"7.7\"\n",
      "PRETTY_NAME=\"Scientific Linux 7.7 (Nitrogen)\"\n",
      "ANSI_COLOR=\"0;31\"\n",
      "CPE_NAME=\"cpe:/o:scientificlinux:scientificlinux:7.7:GA\"\n",
      "HOME_URL=\"http://www.scientificlinux.org//\"\n",
      "BUG_REPORT_URL=\"mailto:scientific-linux-devel@listserv.fnal.gov\"\n",
      "\n",
      "REDHAT_BUGZILLA_PRODUCT=\"Scientific Linux 7\"\n",
      "REDHAT_BUGZILLA_PRODUCT_VERSION=7.7\n",
      "REDHAT_SUPPORT_PRODUCT=\"Scientific Linux\"\n",
      "REDHAT_SUPPORT_PRODUCT_VERSION=\"7.7\"\n",
      "Scientific Linux release 7.7 (Nitrogen)\n",
      "Scientific Linux release 7.7 (Nitrogen)\n",
      "Scientific Linux release 7.7 (Nitrogen)\n"
     ]
    }
   ],
   "source": [
    "!cat /etc/*-release"
   ]
  },
  {
   "cell_type": "code",
   "execution_count": 2,
   "metadata": {},
   "outputs": [],
   "source": [
    "import os"
   ]
  },
  {
   "cell_type": "code",
   "execution_count": 3,
   "metadata": {},
   "outputs": [
    {
     "data": {
      "text/plain": [
       "environ({'SLURM_PROCID': '0', 'CVS_RSH': 'ssh', 'SLURM_NODELIST': 'wr16', 'SLURM_WORKING_CLUSTER': 'wr-cluster:wr0:6817:8448', 'SLURM_JOB_ACCOUNT': 'fb02-mas', 'SLURM_GTIDS': '0', 'SLURM_JOB_UID': '2722', 'CONDA_PROMPT_MODIFIER': '(tf-1.4) ', 'LC_PAPER': 'de_DE.UTF-8', 'ENVIRONMENT': 'BATCH', 'PAGER': 'cat', 'IRC_CLIENT': 'irssi', 'PERL_MB_OPT': '--install_base /home/mwasil2s/perl5', 'HISTCONTROL': 'ignoredups', 'SLURM_NTASKS_PER_NODE': '64', 'LC_TIME': 'de_DE.UTF-8', 'GIT_PAGER': 'cat', 'HOME': '/home/mwasil2s', 'SLURM_SUBMIT_HOST': 'wr0', 'MPLBACKEND': 'module://ipykernel.pylab.backend_inline', 'PERL5LIB': '/home/mwasil2s/perl5/lib/perl5:', 'SLURM_SUBMIT_DIR': '/home/mwasil2s', 'SLURM_LOCALID': '0', 'QTDIR': '/usr/lib64/qt-3.3', 'TMPDIR': '/tmp/slurm.276709.', 'SLURM_NODE_ALIASES': '(null)', 'TERM': 'xterm-color', 'SLURM_JOB_USER': 'mwasil2s', 'XDG_RUNTIME_DIR': '', 'CONDA_DEFAULT_ENV': 'tf-1.4', 'SLURM_JOB_CPUS_PER_NODE': '64', 'LC_TELEPHONE': 'de_DE.UTF-8', 'SLURM_NODEID': '0', 'MODULEPATH': '/usr/local/modules/modulesfiles:/usr/share/Modules/modulefiles:/etc/modulefiles', 'USER': 'mwasil2s', 'SLURM_CPUS_ON_NODE': '64', 'XDG_SESSION_ID': '281260', 'BASH_IT_THEME': 'sexy', 'SLURM_JOB_PARTITION': 'gpu', 'SLURM_TASK_PID': '113626', 'BASH_IT': '/home/mwasil2s/.bash_it', 'QT_PLUGIN_PATH': '/usr/lib64/kde4/plugins:/usr/lib/kde4/plugins', 'SLURM_JOB_GID': '2107', 'HISTSIZE': '1000', 'SCM_CHECK': 'true', 'PERL_LOCAL_LIB_ROOT': ':/home/mwasil2s/perl5', 'LOADEDMODULES': 'slurm/default:cuda/9.2', '_': '/home/mwasil2s/anaconda3/envs/tf-1.4/bin/jupyter-lab', 'SLURM_JOB_ID': '276709', 'KDEDIRS': '/usr', 'SLURM_JOB_NUM_NODES': '1', 'PWD': '/home/mwasil2s', 'CLASSPATH': '.:', 'SLURM_JOB_NAME': 'tf_job', 'FC': 'gfortran', 'CONDA_EXE': '/home/mwasil2s/anaconda3/bin/conda', 'BASH_FUNC_module()': '() {  eval `/usr/bin/modulecmd bash $*`\\n}', 'CC': 'cc', 'QT_GRAPHICSSYSTEM_CHECKED': '1', 'TODO': 't', 'SLURM_CLUSTER_NAME': 'wr-cluster', '_LMFILES_': '/usr/local/modules/modulesfiles/slurm/default:/usr/local/modules/modulesfiles/cuda/9.2', 'MANPATH': '/usr/local/slurm/slurm-18.08.3/share/man:/usr/local/share/man:', 'LC_NAME': 'de_DE.UTF-8', 'CXX': 'g++', 'QTLIB': '/usr/lib64/qt-3.3/lib', 'CONDA_PYTHON_EXE': '/home/mwasil2s/anaconda3/bin/python', 'LIBRARY_PATH': '/usr/local/cuda-9.2/lib64', 'SLURMD_NODENAME': 'wr16', 'SLURM_MEM_PER_NODE': '65536', 'SLURM_NPROCS': '64', 'XDG_DATA_DIRS': '/home/mwasil2s/.local/share/flatpak/exports/share:/var/lib/flatpak/exports/share:/usr/local/share:/usr/share', 'PERL_MM_OPT': 'INSTALL_BASE=/home/mwasil2s/perl5', 'SLURM_CHECKPOINT_IMAGE_DIR': '/var/slurm/checkpoint', 'SLURM_JOB_QOS': 'normal', 'SLURM_PRIO_PROCESS': '0', 'SLURM_NNODES': '1', 'CONDA_PREFIX': '/home/mwasil2s/anaconda3/envs/tf-1.4', 'SLURM_TOPOLOGY_ADDR_PATTERN': 'switch.switch.node', 'CPATH': '/usr/local/cuda-9.2/include', 'AUTOFEATURE': 'true autotest', 'LSCOLORS': 'Gxfxcxdxdxegedabagacad', 'SSH_CLIENT': '10.20.165.11 44406 22', 'LOGNAME': 'mwasil2s', 'LC_IDENTIFICATION': 'de_DE.UTF-8', 'LANG': 'en_US.UTF-8', 'LC_MONETARY': 'de_DE.UTF-8', 'LC_ADDRESS': 'de_DE.UTF-8', 'PATH': '/home/mwasil2s/anaconda3/envs/tf-1.4/bin:/usr/local/cuda-9.2/bin:/usr/local/slurm/slurm-18.08.3/bin:/usr/local/bin:/usr/lib64/qt-3.3/bin:/home/mwasil2s/perl5/bin:/usr/lib64/ccache:/usr/local/bin:/usr/bin:/usr/local/sbin:/usr/sbin:/home/mwasil2s/.local/bin:/home/mwasil2s/bin', 'SHLVL': '2', 'GIT_HOSTING': 'git@git.domain.com', 'QTINC': '/usr/lib64/qt-3.3/include', 'SSH_CONNECTION': '10.20.165.11 44406 194.95.66.139 22', 'MODULESHOME': '/usr/share/Modules', 'EDITOR': 'vim', 'LD_LIBRARY_PATH': '/usr/local/cuda-9.2/lib64:LD_LIBRARY_PATH:/usr/local/cuda-9.0/lib64/', 'LESSOPEN': '||/usr/bin/lesspipe.sh %s', 'LC_NUMERIC': 'de_DE.UTF-8', 'SSH_TTY': '/dev/pts/6', 'LS_COLORS': 'rs=0:di=38;5;27:ln=38;5;51:mh=44;38;5;15:pi=40;38;5;11:so=38;5;13:do=38;5;5:bd=48;5;232;38;5;11:cd=48;5;232;38;5;3:or=48;5;232;38;5;9:mi=05;48;5;232;38;5;15:su=48;5;196;38;5;15:sg=48;5;11;38;5;16:ca=48;5;196;38;5;226:tw=48;5;10;38;5;16:ow=48;5;10;38;5;21:st=48;5;21;38;5;15:ex=38;5;34:*.tar=38;5;9:*.tgz=38;5;9:*.arc=38;5;9:*.arj=38;5;9:*.taz=38;5;9:*.lha=38;5;9:*.lz4=38;5;9:*.lzh=38;5;9:*.lzma=38;5;9:*.tlz=38;5;9:*.txz=38;5;9:*.tzo=38;5;9:*.t7z=38;5;9:*.zip=38;5;9:*.z=38;5;9:*.Z=38;5;9:*.dz=38;5;9:*.gz=38;5;9:*.lrz=38;5;9:*.lz=38;5;9:*.lzo=38;5;9:*.xz=38;5;9:*.bz2=38;5;9:*.bz=38;5;9:*.tbz=38;5;9:*.tbz2=38;5;9:*.tz=38;5;9:*.deb=38;5;9:*.rpm=38;5;9:*.jar=38;5;9:*.war=38;5;9:*.ear=38;5;9:*.sar=38;5;9:*.rar=38;5;9:*.alz=38;5;9:*.ace=38;5;9:*.zoo=38;5;9:*.cpio=38;5;9:*.7z=38;5;9:*.rz=38;5;9:*.cab=38;5;9:*.jpg=38;5;13:*.jpeg=38;5;13:*.gif=38;5;13:*.bmp=38;5;13:*.pbm=38;5;13:*.pgm=38;5;13:*.ppm=38;5;13:*.tga=38;5;13:*.xbm=38;5;13:*.xpm=38;5;13:*.tif=38;5;13:*.tiff=38;5;13:*.png=38;5;13:*.svg=38;5;13:*.svgz=38;5;13:*.mng=38;5;13:*.pcx=38;5;13:*.mov=38;5;13:*.mpg=38;5;13:*.mpeg=38;5;13:*.m2v=38;5;13:*.mkv=38;5;13:*.webm=38;5;13:*.ogm=38;5;13:*.mp4=38;5;13:*.m4v=38;5;13:*.mp4v=38;5;13:*.vob=38;5;13:*.qt=38;5;13:*.nuv=38;5;13:*.wmv=38;5;13:*.asf=38;5;13:*.rm=38;5;13:*.rmvb=38;5;13:*.flc=38;5;13:*.avi=38;5;13:*.fli=38;5;13:*.flv=38;5;13:*.gl=38;5;13:*.dl=38;5;13:*.xcf=38;5;13:*.xwd=38;5;13:*.yuv=38;5;13:*.cgm=38;5;13:*.emf=38;5;13:*.axv=38;5;13:*.anx=38;5;13:*.ogv=38;5;13:*.ogx=38;5;13:*.aac=38;5;45:*.au=38;5;45:*.flac=38;5;45:*.mid=38;5;45:*.midi=38;5;45:*.mka=38;5;45:*.mp3=38;5;45:*.mpc=38;5;45:*.ogg=38;5;45:*.ra=38;5;45:*.wav=38;5;45:*.axa=38;5;45:*.oga=38;5;45:*.spx=38;5;45:*.xspf=38;5;45:', 'SHELL': '/bin/bash', 'F77': 'gfortran', 'JPY_PARENT_PID': '113634', 'SLURM_TOPOLOGY_ADDR': 's3.s0.wr16', 'CLICOLOR': '1', 'SLURM_JOBID': '276709', 'GREP_COLOR': '1;33', 'SLURM_NTASKS': '64', 'CONDA_SHLVL': '1', 'SLURM_TASKS_PER_NODE': '64', 'LC_MEASUREMENT': 'de_DE.UTF-8', 'HOSTNAME': 'wr16', 'MAIL': '/var/spool/mail/mwasil2s', 'SLURM_JOB_NODELIST': 'wr16'})"
      ]
     },
     "execution_count": 3,
     "metadata": {},
     "output_type": "execute_result"
    }
   ],
   "source": [
    "os.environ"
   ]
  },
  {
   "cell_type": "code",
   "execution_count": null,
   "metadata": {},
   "outputs": [],
   "source": []
  }
 ],
 "metadata": {
  "kernelspec": {
   "display_name": "Python 3",
   "language": "python",
   "name": "python3"
  },
  "language_info": {
   "codemirror_mode": {
    "name": "ipython",
    "version": 3
   },
   "file_extension": ".py",
   "mimetype": "text/x-python",
   "name": "python",
   "nbconvert_exporter": "python",
   "pygments_lexer": "ipython3",
   "version": "3.5.0"
  }
 },
 "nbformat": 4,
 "nbformat_minor": 4
}
